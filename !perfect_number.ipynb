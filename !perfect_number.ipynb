{
    "cells": [
        {
            "cell_type": "code",
            "execution_count": 28,
            "source": [
                "inp_num = int(input(\"enter a positive number to check whether it is a perfect number\"))\r\n",
                "\r\n",
                "\r\n",
                "def isPerfect(num):\r\n",
                "    sum = 0\r\n",
                "    for i in range(1, num):\r\n",
                "        if(num % i == 0):\r\n",
                "            sum += i\r\n",
                "    print(f\"number => {num}, sum of its divisors => {sum} ==> PERFECT NUMBER\") if sum == num and num != 0 else print(f\"number => {num}, sum of its divisors => {sum} ==> NOT PERFECT NUMBER\")\r\n",
                "\r\n",
                "\r\n",
                "isPerfect(inp_num)\r\n"
            ],
            "outputs": [
                {
                    "output_type": "stream",
                    "name": "stdout",
                    "text": [
                        "number => 28, sum of its divisors => 28 ==> PERFECT NUMBER\n"
                    ]
                }
            ],
            "metadata": {}
        }
    ],
    "metadata": {
        "orig_nbformat": 4,
        "language_info": {
            "name": "python",
            "version": "3.9.5",
            "mimetype": "text/x-python",
            "codemirror_mode": {
                "name": "ipython",
                "version": 3
            },
            "pygments_lexer": "ipython3",
            "nbconvert_exporter": "python",
            "file_extension": ".py"
        },
        "kernelspec": {
            "name": "python3",
            "display_name": "Python 3.9.5 64-bit"
        },
        "interpreter": {
            "hash": "78a214b6e0a0f5413b50d8e6655c544a8a50d5c3e1483549f379d73b74a266ff"
        }
    },
    "nbformat": 4,
    "nbformat_minor": 2
}